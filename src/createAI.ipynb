{
 "cells": [
  {
   "cell_type": "markdown",
   "metadata": {},
   "source": [
    "# Phase de création du modèle IA"
   ]
  },
  {
   "cell_type": "markdown",
   "metadata": {},
   "source": [
    "### Importations"
   ]
  },
  {
   "cell_type": "code",
   "execution_count": null,
   "metadata": {},
   "outputs": [],
   "source": [
    "const convnetjs = require(\"convnetjs\");\n",
    "const deepqlearn = require('convnetjs/build/deepqlearn');\n",
    "const Helper = require('./Helper');\n",
    "const synaptic = require('synaptic');"
   ]
  },
  {
   "cell_type": "code",
   "execution_count": null,
   "metadata": {},
   "outputs": [],
   "source": [
    "exports.initialize = (networkType: string, config: Object) => {\n",
    "    let myNetwork\n",
    "    \n",
    "    if (networkType === 'CNN') {\n",
    "      const filters_number = config[networkType]['filters_number'];\n",
    "      const padding = config[networkType]['padding'];\n",
    "      const stride = config[networkType]['stride'];\n",
    "      const size = config[networkType]['size'];\n",
    "      const layers = config[networkType]['layers'];\n",
    "      \n",
    "      const layer_defs = [];\n",
    "      layer_defs.push({type:'input', out_sx:7, out_sy:6, out_depth:2});\n",
    "      layer_defs.push({\n",
    "        type: 'conv',\n",
    "        sx: size,\n",
    "        filters: filters_number,\n",
    "        stride: stride,\n",
    "        pad: padding,\n",
    "        activation: 'relu'\n",
    "      });\n",
    "      for (let layer = 0; layer < layers.length; layer++) {\n",
    "        layer_defs.push({\n",
    "          type: 'fc',\n",
    "          num_neurons: layers[layer],\n",
    "          activation: 'relu'\n",
    "        });\n",
    "      }\n",
    "      layer_defs.push({type:'regression', num_neurons:7});\n",
    "      myNetwork = new convnetjs.Net();\n",
    "      myNetwork.makeLayers(layer_defs);\n",
    "    } else if (networkType === 'NN') {\n",
    "      const layers = config[networkType]['layers'];\n",
    "  \n",
    "      const inputLayer = new synaptic.Layer(7 * 6);\n",
    "  \n",
    "      const hiddenLayers = [];\n",
    "      for (let layer = 0; layer < layers.length; layer++) {\n",
    "        hiddenLayers.push(new synaptic.Layer(layers[layer]));\n",
    "        hiddenLayers[layer].set({\n",
    "          squash: synaptic.Neuron.squash.RELU,\n",
    "        });\n",
    "      }\n",
    "  \n",
    "      const outputLayer = new synaptic.Layer(7);\n",
    "      outputLayer.set({\n",
    "        squash: synaptic.Neuron.squash.IDENTITY,\n",
    "      });\n",
    "  \n",
    "      inputLayer.project(hiddenLayers[0]);\n",
    "      for (let layer = 0; layer < layers.length - 1; layer++) {\n",
    "        hiddenLayers[layer].project(hiddenLayers[layer + 1])\n",
    "      }\n",
    "      hiddenLayers[hiddenLayers.length - 1].project(outputLayer);\n",
    "  \n",
    "      myNetwork = new synaptic.Network({\n",
    "        input: inputLayer,\n",
    "        hidden: hiddenLayers,\n",
    "        output: outputLayer,\n",
    "      });\n",
    "    }\n",
    "    return myNetwork;\n",
    "  }"
   ]
  },
  {
   "cell_type": "code",
   "execution_count": null,
   "metadata": {},
   "outputs": [],
   "source": [
    "exports.getTrainer = (networkType: string, myNetwork: any) => {\n",
    "    let trainer;\n",
    "    if (networkType === 'CNN') {\n",
    "      trainer = new convnetjs.Trainer(\n",
    "        myNetwork,\n",
    "        {\n",
    "          method: 'sgd',\n",
    "          learning_rate: 0.00001,\n",
    "          momentum: 0.5,\n",
    "          l2_decay: 0.001,\n",
    "          l1_decay: 0.001,\n",
    "          batch_size: 1,\n",
    "        }\n",
    "      );\n",
    "    } else if (networkType === 'NN') {\n",
    "      trainer = myNetwork;\n",
    "    }\n",
    "    return trainer;\n",
    "  }"
   ]
  },
  {
   "cell_type": "code",
   "execution_count": null,
   "metadata": {},
   "outputs": [],
   "source": [
    "exports.formatInput = (\n",
    "    networkType: string,\n",
    "    board: Array<Array<number>>,\n",
    "    playerIdToPlay: number\n",
    "  ) => {\n",
    "    let formattedBoard;\n",
    "    if (networkType === 'CNN') {\n",
    "      formattedBoard = Helper.boardToConvolutionalVol(board, playerIdToPlay);\n",
    "    } else if (networkType === 'NN') {\n",
    "      formattedBoard = Helper.boardTo1DArrayFormatted(board, playerIdToPlay);\n",
    "    }\n",
    "    return formattedBoard;\n",
    "  }"
   ]
  },
  {
   "cell_type": "code",
   "execution_count": null,
   "metadata": {},
   "outputs": [],
   "source": [
    "exports.predict = (\n",
    "    networkType: string,\n",
    "    myNetwork: any,\n",
    "    board: any,\n",
    "  ) => {\n",
    "    let output = [];\n",
    "    let boardFormatted;\n",
    "    if (networkType === 'CNN') {\n",
    "      output = myNetwork.forward(board).w;\n",
    "    } else if (networkType === 'NN') {\n",
    "      output = myNetwork.activate(board);\n",
    "    }\n",
    "    return output;\n",
    "  }"
   ]
  },
  {
   "cell_type": "code",
   "execution_count": null,
   "metadata": {},
   "outputs": [],
   "source": [
    "let losses = [];\n",
    "let accuracies = [];"
   ]
  },
  {
   "cell_type": "code",
   "execution_count": null,
   "metadata": {},
   "outputs": [],
   "source": [
    "exports.backPropagate = (\n",
    "  networkType: string,\n",
    "  trainer: any,\n",
    "  board: any,\n",
    "  reward: number,\n",
    "  columnIndex: number,\n",
    "  learningRate: number\n",
    ") => {\n",
    "  const outputArray = Helper.getArrayFromIndex(columnIndex, reward);\n",
    "  if (networkType === 'CNN') {\n",
    "    trainer.learning_rate = learningRate;\n",
    "    const stats = trainer.train(board, outputArray);\n",
    "    losses.push(stats.loss);  // Ajout de la perte au tableau\n",
    "    console.log(\"Current Loss: \", stats.loss);\n",
    "  }\n",
    "}"
   ]
  },
  {
   "cell_type": "code",
   "execution_count": null,
   "metadata": {},
   "outputs": [],
   "source": [
    "exports.evaluate = (\n",
    "    networkType: string,\n",
    "    myNetwork: any,\n",
    "  ) => {\n",
    "    if (networkType === 'CNN') {\n",
    "      return Helper.evaluateLearningCNN(myNetwork);\n",
    "    } else if (networkType === 'NN') {\n",
    "      return Helper.evaluateLearning(myNetwork);\n",
    "    }\n",
    "  }"
   ]
  },
  {
   "cell_type": "markdown",
   "metadata": {},
   "source": [
    "Entraînement sur 10K époques"
   ]
  },
  {
   "cell_type": "markdown",
   "metadata": {},
   "source": [
    "| Itération | Précision | Perte |\n",
    "|-----------|-----------|-------|\n",
    "| 1         | ...       | ...   |\n",
    "| 2         | ...       | ...   |\n",
    "| 3         | ...       | ...   |\n",
    "| ...       | ...       | ...   |\n"
   ]
  },
  {
   "cell_type": "markdown",
   "metadata": {},
   "source": [
    "Utiliser plugin askPDF gpt4"
   ]
  },
  {
   "cell_type": "markdown",
   "metadata": {},
   "source": []
  }
 ],
 "metadata": {
  "kernelspec": {
   "display_name": "JavaScript",
   "language": "javascript",
   "name": "jslab"
  },
  "language_info": {
   "file_extension": ".js",
   "mimetype": "text/javascript",
   "name": "javascript",
   "version": ""
  }
 },
 "nbformat": 4,
 "nbformat_minor": 2
}
